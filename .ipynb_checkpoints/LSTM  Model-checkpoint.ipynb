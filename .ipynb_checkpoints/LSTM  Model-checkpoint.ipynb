{
 "cells": [
  {
   "cell_type": "markdown",
   "id": "e088b11d-b851-434c-bac7-30515dc5c4a0",
   "metadata": {},
   "source": [
    "## **1. Importing Libraries**\n",
    "\n",
    "numpy: For numerical operations.\n",
    "\n",
    "pandas: For data manipulation and analysis.\n",
    "\n",
    "matplotlib.pyplot: For data visualization.\n",
    "\n",
    "keras.models.load_model: For loading pre-trained Keras models.\n",
    "\n",
    "datetime: For handling date and time.\n",
    "\n",
    "yfinance: For downloading stock data from Yahoo Finance.\n",
    "\n",
    "tensorflow: For building and training deep learning models."
   ]
  },
  {
   "cell_type": "code",
   "execution_count": 1,
   "id": "f79aac2b-2ddd-4b6b-850c-3d50ac8c3718",
   "metadata": {},
   "outputs": [
    {
     "name": "stderr",
     "output_type": "stream",
     "text": [
      "2024-04-03 20:55:26.578762: I tensorflow/core/util/port.cc:113] oneDNN custom operations are on. You may see slightly different numerical results due to floating-point round-off errors from different computation orders. To turn them off, set the environment variable `TF_ENABLE_ONEDNN_OPTS=0`.\n",
      "2024-04-03 20:55:26.580645: I external/local_tsl/tsl/cuda/cudart_stub.cc:32] Could not find cuda drivers on your machine, GPU will not be used.\n",
      "2024-04-03 20:55:26.670708: I external/local_tsl/tsl/cuda/cudart_stub.cc:32] Could not find cuda drivers on your machine, GPU will not be used.\n",
      "2024-04-03 20:55:27.056477: I tensorflow/core/platform/cpu_feature_guard.cc:210] This TensorFlow binary is optimized to use available CPU instructions in performance-critical operations.\n",
      "To enable the following instructions: AVX2 AVX512F AVX512_VNNI FMA, in other operations, rebuild TensorFlow with the appropriate compiler flags.\n",
      "2024-04-03 20:55:28.875657: W tensorflow/compiler/tf2tensorrt/utils/py_utils.cc:38] TF-TRT Warning: Could not find TensorRT\n"
     ]
    }
   ],
   "source": [
    "import numpy as np\n",
    "import pandas as pd\n",
    "import matplotlib.pyplot as plt\n",
    "from keras.models import load_model\n",
    "import datetime as dt\n",
    "import yfinance as yf\n",
    "import tensorflow as tf"
   ]
  },
  {
   "cell_type": "markdown",
   "id": "020c1be9-a5eb-447a-a6ff-0413754213c1",
   "metadata": {},
   "source": [
    "## **2. Downloading Stock Data**\n",
    "\n",
    "\n",
    "STOCK: Ticker symbol of the stock (State Bank of India in this case).\n",
    "\n",
    "start_date: Starting date for the stock data.\n",
    "\n",
    "end_date: Ending date for the stock data.\n",
    "\n",
    "yf.download: Downloads historical stock data from Yahoo Finance.\n",
    "\n",
    "df.head(): Displays the first five rows of the DataFrame."
   ]
  },
  {
   "cell_type": "code",
   "execution_count": 2,
   "id": "9236f2d8-3599-436b-a6de-bca041bd2a5c",
   "metadata": {},
   "outputs": [
    {
     "data": {
      "text/html": [
       "<div>\n",
       "<style scoped>\n",
       "    .dataframe tbody tr th:only-of-type {\n",
       "        vertical-align: middle;\n",
       "    }\n",
       "\n",
       "    .dataframe tbody tr th {\n",
       "        vertical-align: top;\n",
       "    }\n",
       "\n",
       "    .dataframe thead th {\n",
       "        text-align: right;\n",
       "    }\n",
       "</style>\n",
       "<table border=\"1\" class=\"dataframe\">\n",
       "  <thead>\n",
       "    <tr style=\"text-align: right;\">\n",
       "      <th></th>\n",
       "      <th>Open</th>\n",
       "      <th>High</th>\n",
       "      <th>Low</th>\n",
       "      <th>Close</th>\n",
       "      <th>Adj Close</th>\n",
       "      <th>Volume</th>\n",
       "    </tr>\n",
       "    <tr>\n",
       "      <th>Date</th>\n",
       "      <th></th>\n",
       "      <th></th>\n",
       "      <th></th>\n",
       "      <th></th>\n",
       "      <th></th>\n",
       "      <th></th>\n",
       "    </tr>\n",
       "  </thead>\n",
       "  <tbody>\n",
       "    <tr>\n",
       "      <th>2000-01-03</th>\n",
       "      <td>22.267092</td>\n",
       "      <td>22.988886</td>\n",
       "      <td>22.101974</td>\n",
       "      <td>22.988886</td>\n",
       "      <td>16.110510</td>\n",
       "      <td>25152894</td>\n",
       "    </tr>\n",
       "    <tr>\n",
       "      <th>2000-01-04</th>\n",
       "      <td>22.988886</td>\n",
       "      <td>24.720245</td>\n",
       "      <td>22.535995</td>\n",
       "      <td>24.446625</td>\n",
       "      <td>17.132084</td>\n",
       "      <td>47648560</td>\n",
       "    </tr>\n",
       "    <tr>\n",
       "      <th>2000-01-05</th>\n",
       "      <td>23.493668</td>\n",
       "      <td>24.974997</td>\n",
       "      <td>23.116261</td>\n",
       "      <td>23.441774</td>\n",
       "      <td>16.427891</td>\n",
       "      <td>36396207</td>\n",
       "    </tr>\n",
       "    <tr>\n",
       "      <th>2000-01-06</th>\n",
       "      <td>23.776726</td>\n",
       "      <td>25.286358</td>\n",
       "      <td>23.776726</td>\n",
       "      <td>24.625893</td>\n",
       "      <td>17.257715</td>\n",
       "      <td>70573968</td>\n",
       "    </tr>\n",
       "    <tr>\n",
       "      <th>2000-01-07</th>\n",
       "      <td>24.673071</td>\n",
       "      <td>26.409147</td>\n",
       "      <td>24.059780</td>\n",
       "      <td>25.786425</td>\n",
       "      <td>18.071018</td>\n",
       "      <td>83453217</td>\n",
       "    </tr>\n",
       "  </tbody>\n",
       "</table>\n",
       "</div>"
      ],
      "text/plain": [
       "                 Open       High        Low      Close  Adj Close    Volume\n",
       "Date                                                                       \n",
       "2000-01-03  22.267092  22.988886  22.101974  22.988886  16.110510  25152894\n",
       "2000-01-04  22.988886  24.720245  22.535995  24.446625  17.132084  47648560\n",
       "2000-01-05  23.493668  24.974997  23.116261  23.441774  16.427891  36396207\n",
       "2000-01-06  23.776726  25.286358  23.776726  24.625893  17.257715  70573968\n",
       "2000-01-07  24.673071  26.409147  24.059780  25.786425  18.071018  83453217"
      ]
     },
     "execution_count": 2,
     "metadata": {},
     "output_type": "execute_result"
    }
   ],
   "source": [
    "STOCK = 'SBIN.NS'\n",
    "start_date = dt.date(2000,1,1)\n",
    "end_date = dt.datetime.now().date()\n",
    "df = yf.download(STOCK,start=start_date, end=end_date, progress=False)\n",
    "df.head()"
   ]
  },
  {
   "cell_type": "markdown",
   "id": "481cb5a0-0246-40e0-abc1-e5633c010730",
   "metadata": {},
   "source": [
    "## **3. Calculating Moving Averages**\n",
    "\n",
    "rolling(100).mean(): Calculates the 100-day moving average.\n",
    "\n",
    "rolling(200).mean(): Calculates the 200-day moving average."
   ]
  },
  {
   "cell_type": "code",
   "execution_count": 3,
   "id": "83139000-c8f8-488a-95d6-ddeedb6dfefe",
   "metadata": {},
   "outputs": [
    {
     "data": {
      "text/plain": [
       "Date\n",
       "2000-01-03           NaN\n",
       "2000-01-04           NaN\n",
       "2000-01-05           NaN\n",
       "2000-01-06           NaN\n",
       "2000-01-07           NaN\n",
       "                 ...    \n",
       "2024-03-26    655.659002\n",
       "2024-03-27    657.340002\n",
       "2024-03-28    659.208002\n",
       "2024-04-01    661.127001\n",
       "2024-04-02    663.070002\n",
       "Name: Close, Length: 6053, dtype: float64"
      ]
     },
     "execution_count": 3,
     "metadata": {},
     "output_type": "execute_result"
    }
   ],
   "source": [
    "ma100 = df.Close.rolling(100).mean()\n",
    "ma100"
   ]
  },
  {
   "cell_type": "code",
   "execution_count": 4,
   "id": "9e901cf0-1629-4bf1-b023-6cde3a517627",
   "metadata": {
    "scrolled": true
   },
   "outputs": [
    {
     "data": {
      "text/plain": [
       "Date\n",
       "2000-01-03           NaN\n",
       "2000-01-04           NaN\n",
       "2000-01-05           NaN\n",
       "2000-01-06           NaN\n",
       "2000-01-07           NaN\n",
       "                 ...    \n",
       "2024-03-26    619.333001\n",
       "2024-03-27    620.063501\n",
       "2024-03-28    620.898501\n",
       "2024-04-01    621.744001\n",
       "2024-04-02    622.633501\n",
       "Name: Close, Length: 6053, dtype: float64"
      ]
     },
     "execution_count": 4,
     "metadata": {},
     "output_type": "execute_result"
    }
   ],
   "source": [
    "ma200=df.Close.rolling(200).mean()\n",
    "ma200"
   ]
  },
  {
   "cell_type": "markdown",
   "id": "c528c7ca-97da-4d96-879f-014e1c653760",
   "metadata": {},
   "source": [
    "## **4. Plotting Stock Data and Moving Averages**\n",
    "\n",
    "plt.plot(df.Close): Plots the closing prices of the stock.\n",
    "\n",
    "plt.plot(ma100, 'r'): Plots the 100-day moving average in red.\n",
    "\n",
    "plt.plot(ma200, 'g'): Plots the 200-day moving average in green."
   ]
  },
  {
   "cell_type": "code",
   "execution_count": 5,
   "id": "419be231-0013-4a2d-b876-8ba2e8772cfc",
   "metadata": {},
   "outputs": [
    {
     "data": {
      "text/plain": [
       "[<matplotlib.lines.Line2D at 0x7f7078aa7d10>]"
      ]
     },
     "execution_count": 5,
     "metadata": {},
     "output_type": "execute_result"
    },
    {
     "data": {
      "image/png": "[encoded data removed]",
      "text/plain": [
       "<Figure size 1200x600 with 1 Axes>"
      ]
     },
     "metadata": {},
     "output_type": "display_data"
    }
   ],
   "source": [
    "fig=plt.figure(figsize=(12,6))\n",
    "plt.plot(df.Close)\n",
    "plt.plot(ma100, 'r')\n",
    "plt.plot(ma200, 'g')"
   ]
  },
  {
   "cell_type": "code",
   "execution_count": 6,
   "id": "90844ba5-f73b-4d8e-8020-3f592bca5e03",
   "metadata": {},
   "outputs": [
    {
     "data": {
      "text/plain": [
       "(6053, 6)"
      ]
     },
     "execution_count": 6,
     "metadata": {},
     "output_type": "execute_result"
    }
   ],
   "source": [
    "df.shape"
   ]
  },
  {
   "cell_type": "markdown",
   "id": "1d15856d-c544-4b49-b89f-bacde3410d80",
   "metadata": {},
   "source": [
    "## **5. Splitting Data into Training and Testing**\n",
    "\n",
    "data_training: DataFrame containing 70% of the data for training.\n",
    "\n",
    "data_testing: DataFrame containing the remaining 30% of the data for testing."
   ]
  },
  {
   "cell_type": "code",
   "execution_count": 7,
   "id": "41491209-fc36-4c2d-8e7b-a4cf75cb53c0",
   "metadata": {},
   "outputs": [
    {
     "name": "stdout",
     "output_type": "stream",
     "text": [
      "(4237, 1)\n",
      "(1816, 1)\n"
     ]
    }
   ],
   "source": [
    "data_training = pd.DataFrame(df['Close'][0:int(len(df)*0.70)])\n",
    "data_testing = pd.DataFrame(df['Close'][int(len(df)*0.70): int(len(df))])\n",
    "\n",
    "print(data_training.shape)\n",
    "print(data_testing.shape)"
   ]
  },
  {
   "cell_type": "markdown",
   "id": "e71b950c-36de-4d6f-ae9c-630f36644b95",
   "metadata": {},
   "source": [
    "## **6. Scaling Data**\n",
    "\n",
    "MinMaxScaler: Scales data to a specified range (0 to 1 in this case).\n",
    "\n",
    "fit_transform: Fits the scaler to the data and transforms it."
   ]
  },
  {
   "cell_type": "code",
   "execution_count": 8,
   "id": "df2a8cef-73a9-4cac-b348-263bfad05d71",
   "metadata": {},
   "outputs": [],
   "source": [
    "from sklearn.preprocessing import MinMaxScaler\n",
    "scaler = MinMaxScaler(feature_range=(0,1))"
   ]
  },
  {
   "cell_type": "code",
   "execution_count": 9,
   "id": "996e2d34-e73f-477f-97f3-d19a2a971fb9",
   "metadata": {},
   "outputs": [
    {
     "data": {
      "text/plain": [
       "array([[0.02922066],\n",
       "       [0.03363806],\n",
       "       [0.03059305],\n",
       "       ...,\n",
       "       [0.74334761],\n",
       "       [0.7527416 ],\n",
       "       [0.75031738]])"
      ]
     },
     "execution_count": 9,
     "metadata": {},
     "output_type": "execute_result"
    }
   ],
   "source": [
    "data_training_array = scaler.fit_transform(data_training)\n",
    "data_training_array"
   ]
  },
  {
   "cell_type": "markdown",
   "id": "14eedadd-8321-426b-a0cf-73507e3c8b9e",
   "metadata": {},
   "source": [
    "## **7. Creating Training Data**\n",
    "\n",
    "x_train: List of sequences of 100 data points for each input sample.\n",
    "\n",
    "y_train: List of corresponding labels for each input sample."
   ]
  },
  {
   "cell_type": "code",
   "execution_count": 10,
   "id": "d6f3eeed-7f6a-4c4e-a003-8dbc55e782ed",
   "metadata": {},
   "outputs": [],
   "source": [
    "x_train = []\n",
    "y_train = []\n",
    "for i in range(100,data_training_array.shape[0]):\n",
    "    x_train.append(data_training_array[i-100:i])\n",
    "    y_train.append(data_training_array[i,0])\n",
    "\n",
    "x_train, y_train = np.array(x_train), np.array(y_train)"
   ]
  },
  {
   "cell_type": "code",
   "execution_count": 11,
   "id": "11a6b779-2295-4226-a4c1-883e761bb20b",
   "metadata": {},
   "outputs": [
    {
     "data": {
      "text/plain": [
       "(4137, 100, 1)"
      ]
     },
     "execution_count": 11,
     "metadata": {},
     "output_type": "execute_result"
    }
   ],
   "source": [
    "x_train.shape"
   ]
  },
  {
   "cell_type": "markdown",
   "id": "ccec4a63-2706-400a-8c7e-3d82d51064a7",
   "metadata": {},
   "source": [
    "## **8. Building the LSTM Model**\n",
    "\n",
    "Sequential(): Initializes the sequential model.\n",
    "\n",
    "LSTM(units=50, ...): Adds LSTM layers with specified units.\n",
    "\n",
    "Dropout(0.2): Adds dropout layers to prevent overfitting.\n",
    "\n",
    "Dense(units=1): Adds a dense layer with 1 unit.\n",
    "\n",
    "model.summary(): Prints the model architecture."
   ]
  },
  {
   "cell_type": "code",
   "execution_count": 12,
   "id": "ea011328-3589-4d4d-bbc9-b6a861aea06e",
   "metadata": {},
   "outputs": [],
   "source": [
    "from keras.layers import Dense, Dropout, LSTM\n",
    "from keras.models import Sequential"
   ]
  },
  {
   "cell_type": "code",
   "execution_count": 13,
   "id": "a0571bee-d167-4ac0-ade8-05b82b8c3057",
   "metadata": {},
   "outputs": [
    {
     "name": "stderr",
     "output_type": "stream",
     "text": [
      "/home/rohit/.local/lib/python3.11/site-packages/keras/src/layers/rnn/rnn.py:205: UserWarning: Do not pass an `input_shape`/`input_dim` argument to a layer. When using Sequential models, prefer using an `Input(shape)` object as the first layer in the model instead.\n",
      "  super().__init__(**kwargs)\n"
     ]
    }
   ],
   "source": [
    "model = Sequential()\n",
    "model.add(LSTM(units = 50, activation= 'relu', return_sequences=True, input_shape = (x_train.shape[1],1)))\n",
    "model.add(Dropout(0.2))\n",
    "\n",
    "model.add(LSTM(units = 60, activation = 'relu', return_sequences=True))\n",
    "model.add(Dropout(0.3))\n",
    "\n",
    "model.add(LSTM(units = 80, activation = 'relu', return_sequences=True))\n",
    "model.add(Dropout(0.4))\n",
    "\n",
    "model.add(LSTM(units = 120, activation = 'relu'))\n",
    "model.add(Dropout(0.5))\n",
    "\n",
    "model.add(Dense(units=1))"
   ]
  },
  {
   "cell_type": "code",
   "execution_count": 14,
   "id": "4c954df3-6775-4480-ab97-b2efeb711e06",
   "metadata": {},
   "outputs": [
    {
     "data": {
      "text/html": [
       "<pre style=\"white-space:pre;overflow-x:auto;line-height:normal;font-family:Menlo,'DejaVu Sans Mono',consolas,'Courier New',monospace\"><span style=\"font-weight: bold\">Model: \"sequential\"</span>\n",
       "</pre>\n"
      ],
      "text/plain": [
       "\u001b[1mModel: \"sequential\"\u001b[0m\n"
      ]
     },
     "metadata": {},
     "output_type": "display_data"
    },
    {
     "data": {
      "text/html": [
       "<pre style=\"white-space:pre;overflow-x:auto;line-height:normal;font-family:Menlo,'DejaVu Sans Mono',consolas,'Courier New',monospace\">┏━━━━━━━━━━━━━━━━━━━━━━━━━━━━━━━━━┳━━━━━━━━━━━━━━━━━━━━━━━━┳━━━━━━━━━━━━━━━┓\n",
       "┃<span style=\"font-weight: bold\"> Layer (type)                    </span>┃<span style=\"font-weight: bold\"> Output Shape           </span>┃<span style=\"font-weight: bold\">       Param # </span>┃\n",
       "┡━━━━━━━━━━━━━━━━━━━━━━━━━━━━━━━━━╇━━━━━━━━━━━━━━━━━━━━━━━━╇━━━━━━━━━━━━━━━┩\n",
       "│ lstm (<span style=\"color: #0087ff; text-decoration-color: #0087ff\">LSTM</span>)                     │ (<span style=\"color: #00d7ff; text-decoration-color: #00d7ff\">None</span>, <span style=\"color: #00af00; text-decoration-color: #00af00\">100</span>, <span style=\"color: #00af00; text-decoration-color: #00af00\">50</span>)        │        <span style=\"color: #00af00; text-decoration-color: #00af00\">10,400</span> │\n",
       "├─────────────────────────────────┼────────────────────────┼───────────────┤\n",
       "│ dropout (<span style=\"color: #0087ff; text-decoration-color: #0087ff\">Dropout</span>)               │ (<span style=\"color: #00d7ff; text-decoration-color: #00d7ff\">None</span>, <span style=\"color: #00af00; text-decoration-color: #00af00\">100</span>, <span style=\"color: #00af00; text-decoration-color: #00af00\">50</span>)        │             <span style=\"color: #00af00; text-decoration-color: #00af00\">0</span> │\n",
       "├─────────────────────────────────┼────────────────────────┼───────────────┤\n",
       "│ lstm_1 (<span style=\"color: #0087ff; text-decoration-color: #0087ff\">LSTM</span>)                   │ (<span style=\"color: #00d7ff; text-decoration-color: #00d7ff\">None</span>, <span style=\"color: #00af00; text-decoration-color: #00af00\">100</span>, <span style=\"color: #00af00; text-decoration-color: #00af00\">60</span>)        │        <span style=\"color: #00af00; text-decoration-color: #00af00\">26,640</span> │\n",
       "├─────────────────────────────────┼────────────────────────┼───────────────┤\n",
       "│ dropout_1 (<span style=\"color: #0087ff; text-decoration-color: #0087ff\">Dropout</span>)             │ (<span style=\"color: #00d7ff; text-decoration-color: #00d7ff\">None</span>, <span style=\"color: #00af00; text-decoration-color: #00af00\">100</span>, <span style=\"color: #00af00; text-decoration-color: #00af00\">60</span>)        │             <span style=\"color: #00af00; text-decoration-color: #00af00\">0</span> │\n",
       "├─────────────────────────────────┼────────────────────────┼───────────────┤\n",
       "│ lstm_2 (<span style=\"color: #0087ff; text-decoration-color: #0087ff\">LSTM</span>)                   │ (<span style=\"color: #00d7ff; text-decoration-color: #00d7ff\">None</span>, <span style=\"color: #00af00; text-decoration-color: #00af00\">100</span>, <span style=\"color: #00af00; text-decoration-color: #00af00\">80</span>)        │        <span style=\"color: #00af00; text-decoration-color: #00af00\">45,120</span> │\n",
       "├─────────────────────────────────┼────────────────────────┼───────────────┤\n",
       "│ dropout_2 (<span style=\"color: #0087ff; text-decoration-color: #0087ff\">Dropout</span>)             │ (<span style=\"color: #00d7ff; text-decoration-color: #00d7ff\">None</span>, <span style=\"color: #00af00; text-decoration-color: #00af00\">100</span>, <span style=\"color: #00af00; text-decoration-color: #00af00\">80</span>)        │             <span style=\"color: #00af00; text-decoration-color: #00af00\">0</span> │\n",
       "├─────────────────────────────────┼────────────────────────┼───────────────┤\n",
       "│ lstm_3 (<span style=\"color: #0087ff; text-decoration-color: #0087ff\">LSTM</span>)                   │ (<span style=\"color: #00d7ff; text-decoration-color: #00d7ff\">None</span>, <span style=\"color: #00af00; text-decoration-color: #00af00\">120</span>)            │        <span style=\"color: #00af00; text-decoration-color: #00af00\">96,480</span> │\n",
       "├─────────────────────────────────┼────────────────────────┼───────────────┤\n",
       "│ dropout_3 (<span style=\"color: #0087ff; text-decoration-color: #0087ff\">Dropout</span>)             │ (<span style=\"color: #00d7ff; text-decoration-color: #00d7ff\">None</span>, <span style=\"color: #00af00; text-decoration-color: #00af00\">120</span>)            │             <span style=\"color: #00af00; text-decoration-color: #00af00\">0</span> │\n",
       "├─────────────────────────────────┼────────────────────────┼───────────────┤\n",
       "│ dense (<span style=\"color: #0087ff; text-decoration-color: #0087ff\">Dense</span>)                   │ (<span style=\"color: #00d7ff; text-decoration-color: #00d7ff\">None</span>, <span style=\"color: #00af00; text-decoration-color: #00af00\">1</span>)              │           <span style=\"color: #00af00; text-decoration-color: #00af00\">121</span> │\n",
       "└─────────────────────────────────┴────────────────────────┴───────────────┘\n",
       "</pre>\n"
      ],
      "text/plain": [
       "┏━━━━━━━━━━━━━━━━━━━━━━━━━━━━━━━━━┳━━━━━━━━━━━━━━━━━━━━━━━━┳━━━━━━━━━━━━━━━┓\n",
       "┃\u001b[1m \u001b[0m\u001b[1mLayer (type)                   \u001b[0m\u001b[1m \u001b[0m┃\u001b[1m \u001b[0m\u001b[1mOutput Shape          \u001b[0m\u001b[1m \u001b[0m┃\u001b[1m \u001b[0m\u001b[1m      Param #\u001b[0m\u001b[1m \u001b[0m┃\n",
       "┡━━━━━━━━━━━━━━━━━━━━━━━━━━━━━━━━━╇━━━━━━━━━━━━━━━━━━━━━━━━╇━━━━━━━━━━━━━━━┩\n",
       "│ lstm (\u001b[38;5;33mLSTM\u001b[0m)                     │ (\u001b[38;5;45mNone\u001b[0m, \u001b[38;5;34m100\u001b[0m, \u001b[38;5;34m50\u001b[0m)        │        \u001b[38;5;34m10,400\u001b[0m │\n",
       "├─────────────────────────────────┼────────────────────────┼───────────────┤\n",
       "│ dropout (\u001b[38;5;33mDropout\u001b[0m)               │ (\u001b[38;5;45mNone\u001b[0m, \u001b[38;5;34m100\u001b[0m, \u001b[38;5;34m50\u001b[0m)        │             \u001b[38;5;34m0\u001b[0m │\n",
       "├─────────────────────────────────┼────────────────────────┼───────────────┤\n",
       "│ lstm_1 (\u001b[38;5;33mLSTM\u001b[0m)                   │ (\u001b[38;5;45mNone\u001b[0m, \u001b[38;5;34m100\u001b[0m, \u001b[38;5;34m60\u001b[0m)        │        \u001b[38;5;34m26,640\u001b[0m │\n",
       "├─────────────────────────────────┼────────────────────────┼───────────────┤\n",
       "│ dropout_1 (\u001b[38;5;33mDropout\u001b[0m)             │ (\u001b[38;5;45mNone\u001b[0m, \u001b[38;5;34m100\u001b[0m, \u001b[38;5;34m60\u001b[0m)        │             \u001b[38;5;34m0\u001b[0m │\n",
       "├─────────────────────────────────┼────────────────────────┼───────────────┤\n",
       "│ lstm_2 (\u001b[38;5;33mLSTM\u001b[0m)                   │ (\u001b[38;5;45mNone\u001b[0m, \u001b[38;5;34m100\u001b[0m, \u001b[38;5;34m80\u001b[0m)        │        \u001b[38;5;34m45,120\u001b[0m │\n",
       "├─────────────────────────────────┼────────────────────────┼───────────────┤\n",
       "│ dropout_2 (\u001b[38;5;33mDropout\u001b[0m)             │ (\u001b[38;5;45mNone\u001b[0m, \u001b[38;5;34m100\u001b[0m, \u001b[38;5;34m80\u001b[0m)        │             \u001b[38;5;34m0\u001b[0m │\n",
       "├─────────────────────────────────┼────────────────────────┼───────────────┤\n",
       "│ lstm_3 (\u001b[38;5;33mLSTM\u001b[0m)                   │ (\u001b[38;5;45mNone\u001b[0m, \u001b[38;5;34m120\u001b[0m)            │        \u001b[38;5;34m96,480\u001b[0m │\n",
       "├─────────────────────────────────┼────────────────────────┼───────────────┤\n",
       "│ dropout_3 (\u001b[38;5;33mDropout\u001b[0m)             │ (\u001b[38;5;45mNone\u001b[0m, \u001b[38;5;34m120\u001b[0m)            │             \u001b[38;5;34m0\u001b[0m │\n",
       "├─────────────────────────────────┼────────────────────────┼───────────────┤\n",
       "│ dense (\u001b[38;5;33mDense\u001b[0m)                   │ (\u001b[38;5;45mNone\u001b[0m, \u001b[38;5;34m1\u001b[0m)              │           \u001b[38;5;34m121\u001b[0m │\n",
       "└─────────────────────────────────┴────────────────────────┴───────────────┘\n"
      ]
     },
     "metadata": {},
     "output_type": "display_data"
    },
    {
     "data": {
      "text/html": [
       "<pre style=\"white-space:pre;overflow-x:auto;line-height:normal;font-family:Menlo,'DejaVu Sans Mono',consolas,'Courier New',monospace\"><span style=\"font-weight: bold\"> Total params: </span><span style=\"color: #00af00; text-decoration-color: #00af00\">178,761</span> (698.29 KB)\n",
       "</pre>\n"
      ],
      "text/plain": [
       "\u001b[1m Total params: \u001b[0m\u001b[38;5;34m178,761\u001b[0m (698.29 KB)\n"
      ]
     },
     "metadata": {},
     "output_type": "display_data"
    },
    {
     "data": {
      "text/html": [
       "<pre style=\"white-space:pre;overflow-x:auto;line-height:normal;font-family:Menlo,'DejaVu Sans Mono',consolas,'Courier New',monospace\"><span style=\"font-weight: bold\"> Trainable params: </span><span style=\"color: #00af00; text-decoration-color: #00af00\">178,761</span> (698.29 KB)\n",
       "</pre>\n"
      ],
      "text/plain": [
       "\u001b[1m Trainable params: \u001b[0m\u001b[38;5;34m178,761\u001b[0m (698.29 KB)\n"
      ]
     },
     "metadata": {},
     "output_type": "display_data"
    },
    {
     "data": {
      "text/html": [
       "<pre style=\"white-space:pre;overflow-x:auto;line-height:normal;font-family:Menlo,'DejaVu Sans Mono',consolas,'Courier New',monospace\"><span style=\"font-weight: bold\"> Non-trainable params: </span><span style=\"color: #00af00; text-decoration-color: #00af00\">0</span> (0.00 B)\n",
       "</pre>\n"
      ],
      "text/plain": [
       "\u001b[1m Non-trainable params: \u001b[0m\u001b[38;5;34m0\u001b[0m (0.00 B)\n"
      ]
     },
     "metadata": {},
     "output_type": "display_data"
    }
   ],
   "source": [
    "model.summary()"
   ]
  },
  {
   "cell_type": "markdown",
   "id": "b1c8cfcb-774b-4dc7-a68b-22af6a41ea15",
   "metadata": {},
   "source": [
    "## **9. Compiling and Training the Model**\n",
    "\n",
    "compile: Compiles the model with the Adam optimizer and mean squared error loss function.\n",
    "\n",
    "fit: Trains the model on the training data for 50 epochs.\n",
    "\n",
    "save: Saves the trained model to a file."
   ]
  },
  {
   "cell_type": "code",
   "execution_count": 15,
   "id": "ce0273fb-350c-460e-ba61-a9d4cd989328",
   "metadata": {},
   "outputs": [
    {
     "name": "stdout",
     "output_type": "stream",
     "text": [
      "Epoch 1/50\n",
      "\u001b[1m130/130\u001b[0m \u001b[32m━━━━━━━━━━━━━━━━━━━━\u001b[0m\u001b[37m\u001b[0m \u001b[1m18s\u001b[0m 84ms/step - loss: 0.0551\n",
      "Epoch 2/50\n",
      "\u001b[1m130/130\u001b[0m \u001b[32m━━━━━━━━━━━━━━━━━━━━\u001b[0m\u001b[37m\u001b[0m \u001b[1m13s\u001b[0m 97ms/step - loss: 0.0072\n",
      "Epoch 3/50\n",
      "\u001b[1m130/130\u001b[0m \u001b[32m━━━━━━━━━━━━━━━━━━━━\u001b[0m\u001b[37m\u001b[0m \u001b[1m16s\u001b[0m 122ms/step - loss: 0.0060\n",
      "Epoch 4/50\n",
      "\u001b[1m130/130\u001b[0m \u001b[32m━━━━━━━━━━━━━━━━━━━━\u001b[0m\u001b[37m\u001b[0m \u001b[1m24s\u001b[0m 181ms/step - loss: 0.0060\n",
      "Epoch 5/50\n",
      "\u001b[1m130/130\u001b[0m \u001b[32m━━━━━━━━━━━━━━━━━━━━\u001b[0m\u001b[37m\u001b[0m \u001b[1m19s\u001b[0m 143ms/step - loss: 0.0052\n",
      "Epoch 6/50\n",
      "\u001b[1m130/130\u001b[0m \u001b[32m━━━━━━━━━━━━━━━━━━━━\u001b[0m\u001b[37m\u001b[0m \u001b[1m17s\u001b[0m 131ms/step - loss: 0.0052\n",
      "Epoch 7/50\n",
      "\u001b[1m130/130\u001b[0m \u001b[32m━━━━━━━━━━━━━━━━━━━━\u001b[0m\u001b[37m\u001b[0m \u001b[1m17s\u001b[0m 131ms/step - loss: 0.0046\n",
      "Epoch 8/50\n",
      "\u001b[1m130/130\u001b[0m \u001b[32m━━━━━━━━━━━━━━━━━━━━\u001b[0m\u001b[37m\u001b[0m \u001b[1m16s\u001b[0m 120ms/step - loss: 0.0048\n",
      "Epoch 9/50\n",
      "\u001b[1m130/130\u001b[0m \u001b[32m━━━━━━━━━━━━━━━━━━━━\u001b[0m\u001b[37m\u001b[0m \u001b[1m18s\u001b[0m 136ms/step - loss: 0.0042\n",
      "Epoch 10/50\n",
      "\u001b[1m130/130\u001b[0m \u001b[32m━━━━━━━━━━━━━━━━━━━━\u001b[0m\u001b[37m\u001b[0m \u001b[1m19s\u001b[0m 145ms/step - loss: 0.0038\n",
      "Epoch 11/50\n",
      "\u001b[1m130/130\u001b[0m \u001b[32m━━━━━━━━━━━━━━━━━━━━\u001b[0m\u001b[37m\u001b[0m \u001b[1m17s\u001b[0m 134ms/step - loss: 0.0039\n",
      "Epoch 12/50\n",
      "\u001b[1m130/130\u001b[0m \u001b[32m━━━━━━━━━━━━━━━━━━━━\u001b[0m\u001b[37m\u001b[0m \u001b[1m16s\u001b[0m 121ms/step - loss: 0.0037\n",
      "Epoch 13/50\n",
      "\u001b[1m130/130\u001b[0m \u001b[32m━━━━━━━━━━━━━━━━━━━━\u001b[0m\u001b[37m\u001b[0m \u001b[1m15s\u001b[0m 114ms/step - loss: 0.0034\n",
      "Epoch 14/50\n",
      "\u001b[1m130/130\u001b[0m \u001b[32m━━━━━━━━━━━━━━━━━━━━\u001b[0m\u001b[37m\u001b[0m \u001b[1m15s\u001b[0m 118ms/step - loss: 0.0034\n",
      "Epoch 15/50\n",
      "\u001b[1m130/130\u001b[0m \u001b[32m━━━━━━━━━━━━━━━━━━━━\u001b[0m\u001b[37m\u001b[0m \u001b[1m16s\u001b[0m 124ms/step - loss: 0.0035\n",
      "Epoch 16/50\n",
      "\u001b[1m130/130\u001b[0m \u001b[32m━━━━━━━━━━━━━━━━━━━━\u001b[0m\u001b[37m\u001b[0m \u001b[1m15s\u001b[0m 117ms/step - loss: 0.0031\n",
      "Epoch 17/50\n",
      "\u001b[1m130/130\u001b[0m \u001b[32m━━━━━━━━━━━━━━━━━━━━\u001b[0m\u001b[37m\u001b[0m \u001b[1m17s\u001b[0m 127ms/step - loss: 0.0027\n",
      "Epoch 18/50\n",
      "\u001b[1m130/130\u001b[0m \u001b[32m━━━━━━━━━━━━━━━━━━━━\u001b[0m\u001b[37m\u001b[0m \u001b[1m15s\u001b[0m 118ms/step - loss: 0.0032\n",
      "Epoch 19/50\n",
      "\u001b[1m130/130\u001b[0m \u001b[32m━━━━━━━━━━━━━━━━━━━━\u001b[0m\u001b[37m\u001b[0m \u001b[1m16s\u001b[0m 123ms/step - loss: 0.0029\n",
      "Epoch 20/50\n",
      "\u001b[1m130/130\u001b[0m \u001b[32m━━━━━━━━━━━━━━━━━━━━\u001b[0m\u001b[37m\u001b[0m \u001b[1m16s\u001b[0m 125ms/step - loss: 0.0028\n",
      "Epoch 21/50\n",
      "\u001b[1m130/130\u001b[0m \u001b[32m━━━━━━━━━━━━━━━━━━━━\u001b[0m\u001b[37m\u001b[0m \u001b[1m18s\u001b[0m 141ms/step - loss: 0.0029\n",
      "Epoch 22/50\n",
      "\u001b[1m130/130\u001b[0m \u001b[32m━━━━━━━━━━━━━━━━━━━━\u001b[0m\u001b[37m\u001b[0m \u001b[1m17s\u001b[0m 129ms/step - loss: 0.0027\n",
      "Epoch 23/50\n",
      "\u001b[1m130/130\u001b[0m \u001b[32m━━━━━━━━━━━━━━━━━━━━\u001b[0m\u001b[37m\u001b[0m \u001b[1m16s\u001b[0m 125ms/step - loss: 0.0025\n",
      "Epoch 24/50\n",
      "\u001b[1m130/130\u001b[0m \u001b[32m━━━━━━━━━━━━━━━━━━━━\u001b[0m\u001b[37m\u001b[0m \u001b[1m17s\u001b[0m 128ms/step - loss: 0.0034\n",
      "Epoch 25/50\n",
      "\u001b[1m130/130\u001b[0m \u001b[32m━━━━━━━━━━━━━━━━━━━━\u001b[0m\u001b[37m\u001b[0m \u001b[1m16s\u001b[0m 125ms/step - loss: 0.0028\n",
      "Epoch 26/50\n",
      "\u001b[1m130/130\u001b[0m \u001b[32m━━━━━━━━━━━━━━━━━━━━\u001b[0m\u001b[37m\u001b[0m \u001b[1m16s\u001b[0m 125ms/step - loss: 0.0030\n",
      "Epoch 27/50\n",
      "\u001b[1m130/130\u001b[0m \u001b[32m━━━━━━━━━━━━━━━━━━━━\u001b[0m\u001b[37m\u001b[0m \u001b[1m17s\u001b[0m 131ms/step - loss: 0.0025\n",
      "Epoch 28/50\n",
      "\u001b[1m130/130\u001b[0m \u001b[32m━━━━━━━━━━━━━━━━━━━━\u001b[0m\u001b[37m\u001b[0m \u001b[1m16s\u001b[0m 127ms/step - loss: 0.0027\n",
      "Epoch 29/50\n",
      "\u001b[1m130/130\u001b[0m \u001b[32m━━━━━━━━━━━━━━━━━━━━\u001b[0m\u001b[37m\u001b[0m \u001b[1m17s\u001b[0m 131ms/step - loss: 0.0023\n",
      "Epoch 30/50\n",
      "\u001b[1m130/130\u001b[0m \u001b[32m━━━━━━━━━━━━━━━━━━━━\u001b[0m\u001b[37m\u001b[0m \u001b[1m16s\u001b[0m 126ms/step - loss: 0.0025\n",
      "Epoch 31/50\n",
      "\u001b[1m130/130\u001b[0m \u001b[32m━━━━━━━━━━━━━━━━━━━━\u001b[0m\u001b[37m\u001b[0m \u001b[1m17s\u001b[0m 129ms/step - loss: 0.0026\n",
      "Epoch 32/50\n",
      "\u001b[1m130/130\u001b[0m \u001b[32m━━━━━━━━━━━━━━━━━━━━\u001b[0m\u001b[37m\u001b[0m \u001b[1m16s\u001b[0m 124ms/step - loss: 0.0024\n",
      "Epoch 33/50\n",
      "\u001b[1m130/130\u001b[0m \u001b[32m━━━━━━━━━━━━━━━━━━━━\u001b[0m\u001b[37m\u001b[0m \u001b[1m17s\u001b[0m 131ms/step - loss: 0.0027\n",
      "Epoch 34/50\n",
      "\u001b[1m130/130\u001b[0m \u001b[32m━━━━━━━━━━━━━━━━━━━━\u001b[0m\u001b[37m\u001b[0m \u001b[1m17s\u001b[0m 130ms/step - loss: 0.0025\n",
      "Epoch 35/50\n",
      "\u001b[1m130/130\u001b[0m \u001b[32m━━━━━━━━━━━━━━━━━━━━\u001b[0m\u001b[37m\u001b[0m \u001b[1m16s\u001b[0m 126ms/step - loss: 0.0024\n",
      "Epoch 36/50\n",
      "\u001b[1m130/130\u001b[0m \u001b[32m━━━━━━━━━━━━━━━━━━━━\u001b[0m\u001b[37m\u001b[0m \u001b[1m15s\u001b[0m 117ms/step - loss: 0.0023\n",
      "Epoch 37/50\n",
      "\u001b[1m130/130\u001b[0m \u001b[32m━━━━━━━━━━━━━━━━━━━━\u001b[0m\u001b[37m\u001b[0m \u001b[1m16s\u001b[0m 121ms/step - loss: 0.0024\n",
      "Epoch 38/50\n",
      "\u001b[1m130/130\u001b[0m \u001b[32m━━━━━━━━━━━━━━━━━━━━\u001b[0m\u001b[37m\u001b[0m \u001b[1m16s\u001b[0m 125ms/step - loss: 0.0026\n",
      "Epoch 39/50\n",
      "\u001b[1m130/130\u001b[0m \u001b[32m━━━━━━━━━━━━━━━━━━━━\u001b[0m\u001b[37m\u001b[0m \u001b[1m16s\u001b[0m 125ms/step - loss: 0.0024\n",
      "Epoch 40/50\n",
      "\u001b[1m130/130\u001b[0m \u001b[32m━━━━━━━━━━━━━━━━━━━━\u001b[0m\u001b[37m\u001b[0m \u001b[1m16s\u001b[0m 126ms/step - loss: 0.0023\n",
      "Epoch 41/50\n",
      "\u001b[1m130/130\u001b[0m \u001b[32m━━━━━━━━━━━━━━━━━━━━\u001b[0m\u001b[37m\u001b[0m \u001b[1m15s\u001b[0m 117ms/step - loss: 0.0024\n",
      "Epoch 42/50\n",
      "\u001b[1m130/130\u001b[0m \u001b[32m━━━━━━━━━━━━━━━━━━━━\u001b[0m\u001b[37m\u001b[0m \u001b[1m18s\u001b[0m 140ms/step - loss: 0.0024\n",
      "Epoch 43/50\n",
      "\u001b[1m130/130\u001b[0m \u001b[32m━━━━━━━━━━━━━━━━━━━━\u001b[0m\u001b[37m\u001b[0m \u001b[1m16s\u001b[0m 123ms/step - loss: 0.0025\n",
      "Epoch 44/50\n",
      "\u001b[1m130/130\u001b[0m \u001b[32m━━━━━━━━━━━━━━━━━━━━\u001b[0m\u001b[37m\u001b[0m \u001b[1m17s\u001b[0m 132ms/step - loss: 0.0022\n",
      "Epoch 45/50\n",
      "\u001b[1m130/130\u001b[0m \u001b[32m━━━━━━━━━━━━━━━━━━━━\u001b[0m\u001b[37m\u001b[0m \u001b[1m18s\u001b[0m 135ms/step - loss: 0.0024\n",
      "Epoch 46/50\n",
      "\u001b[1m130/130\u001b[0m \u001b[32m━━━━━━━━━━━━━━━━━━━━\u001b[0m\u001b[37m\u001b[0m \u001b[1m17s\u001b[0m 131ms/step - loss: 0.0025\n",
      "Epoch 47/50\n",
      "\u001b[1m130/130\u001b[0m \u001b[32m━━━━━━━━━━━━━━━━━━━━\u001b[0m\u001b[37m\u001b[0m \u001b[1m18s\u001b[0m 135ms/step - loss: 0.0025\n",
      "Epoch 48/50\n",
      "\u001b[1m130/130\u001b[0m \u001b[32m━━━━━━━━━━━━━━━━━━━━\u001b[0m\u001b[37m\u001b[0m \u001b[1m17s\u001b[0m 134ms/step - loss: 0.0025\n",
      "Epoch 49/50\n",
      "\u001b[1m130/130\u001b[0m \u001b[32m━━━━━━━━━━━━━━━━━━━━\u001b[0m\u001b[37m\u001b[0m \u001b[1m16s\u001b[0m 123ms/step - loss: 0.0022\n",
      "Epoch 50/50\n",
      "\u001b[1m130/130\u001b[0m \u001b[32m━━━━━━━━━━━━━━━━━━━━\u001b[0m\u001b[37m\u001b[0m \u001b[1m16s\u001b[0m 126ms/step - loss: 0.0023\n"
     ]
    },
    {
     "data": {
      "text/plain": [
       "<keras.src.callbacks.history.History at 0x7f7066de5f90>"
      ]
     },
     "execution_count": 15,
     "metadata": {},
     "output_type": "execute_result"
    }
   ],
   "source": [
    "model.compile(optimizer='adam', loss='mean_squared_error')\n",
    "model.fit(x_train, y_train, epochs=50)"
   ]
  },
  {
   "cell_type": "code",
   "execution_count": 17,
   "id": "6e6a831f-55a4-4439-a6d6-e3b6893e7839",
   "metadata": {},
   "outputs": [
    {
     "name": "stderr",
     "output_type": "stream",
     "text": [
      "WARNING:absl:You are saving your model as an HDF5 file via `model.save()` or `keras.saving.save_model(model)`. This file format is considered legacy. We recommend using instead the native Keras format, e.g. `model.save('my_model.keras')` or `keras.saving.save_model(model, 'my_model.keras')`. \n"
     ]
    }
   ],
   "source": [
    "model.save('keras_model.h5')"
   ]
  },
  {
   "cell_type": "markdown",
   "id": "e6522f9c-f9bb-4c38-a63b-9891ab5c73c7",
   "metadata": {},
   "source": [
    "## **10. Preparing Testing Data**\n",
    "\n",
    "past_100_days: Last 100 days of the training data.\n",
    "\n",
    "final_df: Concatenation of the last 100 days of training data and the testing data.\n",
    "\n",
    "input_data: Scales the concatenated data."
   ]
  },
  {
   "cell_type": "code",
   "execution_count": 18,
   "id": "107b197d-fd7a-4d97-82e6-7d991e2953b8",
   "metadata": {},
   "outputs": [
    {
     "data": {
      "text/html": [
       "<div>\n",
       "<style scoped>\n",
       "    .dataframe tbody tr th:only-of-type {\n",
       "        vertical-align: middle;\n",
       "    }\n",
       "\n",
       "    .dataframe tbody tr th {\n",
       "        vertical-align: top;\n",
       "    }\n",
       "\n",
       "    .dataframe thead th {\n",
       "        text-align: right;\n",
       "    }\n",
       "</style>\n",
       "<table border=\"1\" class=\"dataframe\">\n",
       "  <thead>\n",
       "    <tr style=\"text-align: right;\">\n",
       "      <th></th>\n",
       "      <th>Close</th>\n",
       "    </tr>\n",
       "    <tr>\n",
       "      <th>Date</th>\n",
       "      <th></th>\n",
       "    </tr>\n",
       "  </thead>\n",
       "  <tbody>\n",
       "    <tr>\n",
       "      <th>2016-11-28</th>\n",
       "      <td>253.550003</td>\n",
       "    </tr>\n",
       "    <tr>\n",
       "      <th>2016-11-29</th>\n",
       "      <td>252.699997</td>\n",
       "    </tr>\n",
       "    <tr>\n",
       "      <th>2016-11-30</th>\n",
       "      <td>258.350006</td>\n",
       "    </tr>\n",
       "    <tr>\n",
       "      <th>2016-12-01</th>\n",
       "      <td>255.649994</td>\n",
       "    </tr>\n",
       "    <tr>\n",
       "      <th>2016-12-02</th>\n",
       "      <td>254.100006</td>\n",
       "    </tr>\n",
       "  </tbody>\n",
       "</table>\n",
       "</div>"
      ],
      "text/plain": [
       "                 Close\n",
       "Date                  \n",
       "2016-11-28  253.550003\n",
       "2016-11-29  252.699997\n",
       "2016-11-30  258.350006\n",
       "2016-12-01  255.649994\n",
       "2016-12-02  254.100006"
      ]
     },
     "execution_count": 18,
     "metadata": {},
     "output_type": "execute_result"
    }
   ],
   "source": [
    "data_testing.head()"
   ]
  },
  {
   "cell_type": "code",
   "execution_count": 19,
   "id": "f7f11fa1-c944-4936-affe-1eaa8224e54a",
   "metadata": {},
   "outputs": [
    {
     "data": {
      "text/html": [
       "<div>\n",
       "<style scoped>\n",
       "    .dataframe tbody tr th:only-of-type {\n",
       "        vertical-align: middle;\n",
       "    }\n",
       "\n",
       "    .dataframe tbody tr th {\n",
       "        vertical-align: top;\n",
       "    }\n",
       "\n",
       "    .dataframe thead th {\n",
       "        text-align: right;\n",
       "    }\n",
       "</style>\n",
       "<table border=\"1\" class=\"dataframe\">\n",
       "  <thead>\n",
       "    <tr style=\"text-align: right;\">\n",
       "      <th></th>\n",
       "      <th>Close</th>\n",
       "    </tr>\n",
       "    <tr>\n",
       "      <th>Date</th>\n",
       "      <th></th>\n",
       "    </tr>\n",
       "  </thead>\n",
       "  <tbody>\n",
       "    <tr>\n",
       "      <th>2016-06-29</th>\n",
       "      <td>217.199997</td>\n",
       "    </tr>\n",
       "    <tr>\n",
       "      <th>2016-06-30</th>\n",
       "      <td>218.800003</td>\n",
       "    </tr>\n",
       "    <tr>\n",
       "      <th>2016-07-01</th>\n",
       "      <td>219.600006</td>\n",
       "    </tr>\n",
       "    <tr>\n",
       "      <th>2016-07-04</th>\n",
       "      <td>223.000000</td>\n",
       "    </tr>\n",
       "    <tr>\n",
       "      <th>2016-07-05</th>\n",
       "      <td>223.500000</td>\n",
       "    </tr>\n",
       "    <tr>\n",
       "      <th>...</th>\n",
       "      <td>...</td>\n",
       "    </tr>\n",
       "    <tr>\n",
       "      <th>2016-11-21</th>\n",
       "      <td>257.350006</td>\n",
       "    </tr>\n",
       "    <tr>\n",
       "      <th>2016-11-22</th>\n",
       "      <td>257.350006</td>\n",
       "    </tr>\n",
       "    <tr>\n",
       "      <th>2016-11-23</th>\n",
       "      <td>258.649994</td>\n",
       "    </tr>\n",
       "    <tr>\n",
       "      <th>2016-11-24</th>\n",
       "      <td>261.750000</td>\n",
       "    </tr>\n",
       "    <tr>\n",
       "      <th>2016-11-25</th>\n",
       "      <td>260.950012</td>\n",
       "    </tr>\n",
       "  </tbody>\n",
       "</table>\n",
       "<p>100 rows × 1 columns</p>\n",
       "</div>"
      ],
      "text/plain": [
       "                 Close\n",
       "Date                  \n",
       "2016-06-29  217.199997\n",
       "2016-06-30  218.800003\n",
       "2016-07-01  219.600006\n",
       "2016-07-04  223.000000\n",
       "2016-07-05  223.500000\n",
       "...                ...\n",
       "2016-11-21  257.350006\n",
       "2016-11-22  257.350006\n",
       "2016-11-23  258.649994\n",
       "2016-11-24  261.750000\n",
       "2016-11-25  260.950012\n",
       "\n",
       "[100 rows x 1 columns]"
      ]
     },
     "execution_count": 19,
     "metadata": {},
     "output_type": "execute_result"
    }
   ],
   "source": [
    "data_training.tail(100)"
   ]
  },
  {
   "cell_type": "code",
   "execution_count": 20,
   "id": "f4c5ed1c-8487-482b-b737-388b252b86f6",
   "metadata": {},
   "outputs": [],
   "source": [
    "past_100_days = data_training.tail(100)"
   ]
  },
  {
   "cell_type": "code",
   "execution_count": 21,
   "id": "d01b9d69-3515-4944-9b84-6477300291a9",
   "metadata": {},
   "outputs": [],
   "source": [
    "final_df = pd.concat([past_100_days, data_testing], ignore_index=True)"
   ]
  },
  {
   "cell_type": "code",
   "execution_count": 22,
   "id": "f88eeba3-74ef-4cfe-9301-e89f7e4f4cf8",
   "metadata": {},
   "outputs": [
    {
     "data": {
      "text/html": [
       "<div>\n",
       "<style scoped>\n",
       "    .dataframe tbody tr th:only-of-type {\n",
       "        vertical-align: middle;\n",
       "    }\n",
       "\n",
       "    .dataframe tbody tr th {\n",
       "        vertical-align: top;\n",
       "    }\n",
       "\n",
       "    .dataframe thead th {\n",
       "        text-align: right;\n",
       "    }\n",
       "</style>\n",
       "<table border=\"1\" class=\"dataframe\">\n",
       "  <thead>\n",
       "    <tr style=\"text-align: right;\">\n",
       "      <th></th>\n",
       "      <th>Close</th>\n",
       "    </tr>\n",
       "  </thead>\n",
       "  <tbody>\n",
       "    <tr>\n",
       "      <th>0</th>\n",
       "      <td>217.199997</td>\n",
       "    </tr>\n",
       "    <tr>\n",
       "      <th>1</th>\n",
       "      <td>218.800003</td>\n",
       "    </tr>\n",
       "    <tr>\n",
       "      <th>2</th>\n",
       "      <td>219.600006</td>\n",
       "    </tr>\n",
       "    <tr>\n",
       "      <th>3</th>\n",
       "      <td>223.000000</td>\n",
       "    </tr>\n",
       "    <tr>\n",
       "      <th>4</th>\n",
       "      <td>223.500000</td>\n",
       "    </tr>\n",
       "  </tbody>\n",
       "</table>\n",
       "</div>"
      ],
      "text/plain": [
       "        Close\n",
       "0  217.199997\n",
       "1  218.800003\n",
       "2  219.600006\n",
       "3  223.000000\n",
       "4  223.500000"
      ]
     },
     "execution_count": 22,
     "metadata": {},
     "output_type": "execute_result"
    }
   ],
   "source": [
    "final_df.head()"
   ]
  },
  {
   "cell_type": "code",
   "execution_count": 23,
   "id": "4f96bf3d-0928-45b9-a876-2f37f02ab174",
   "metadata": {},
   "outputs": [
    {
     "data": {
      "text/plain": [
       "array([[0.10412742],\n",
       "       [0.10663842],\n",
       "       [0.10789391],\n",
       "       ...,\n",
       "       [0.94397361],\n",
       "       [0.95331136],\n",
       "       [0.96602328]])"
      ]
     },
     "execution_count": 23,
     "metadata": {},
     "output_type": "execute_result"
    }
   ],
   "source": [
    "input_data = scaler.fit_transform(final_df)\n",
    "input_data"
   ]
  },
  {
   "cell_type": "code",
   "execution_count": 24,
   "id": "747c7c57-898b-40f9-a2d7-c6c5c31fa3ac",
   "metadata": {},
   "outputs": [
    {
     "data": {
      "text/plain": [
       "(1916, 1)"
      ]
     },
     "execution_count": 24,
     "metadata": {},
     "output_type": "execute_result"
    }
   ],
   "source": [
    "input_data.shape"
   ]
  },
  {
   "cell_type": "markdown",
   "id": "96ff9fc5-299f-41e2-8f86-2680ce353c7f",
   "metadata": {},
   "source": [
    "## **11. Creating Testing Data**\n",
    "\n",
    "x_test: List of sequences of 100 data points for each input sample.\n",
    "\n",
    "y_test: List of corresponding labels for each input sample."
   ]
  },
  {
   "cell_type": "code",
   "execution_count": 25,
   "id": "fa93ba48-1a04-4144-86e4-86aa3aa039bc",
   "metadata": {},
   "outputs": [
    {
     "name": "stdout",
     "output_type": "stream",
     "text": [
      "(1816, 100, 1)\n",
      "(1816,)\n"
     ]
    }
   ],
   "source": [
    "x_test = []\n",
    "y_test = []\n",
    "for i in range(100,input_data.shape[0]):\n",
    "    x_test.append(input_data[i-100:i])\n",
    "    y_test.append(input_data[i,0])\n",
    "\n",
    "x_test, y_test = np.array(x_test), np.array(y_test)\n",
    "\n",
    "print(x_test.shape)\n",
    "print(y_test.shape)"
   ]
  },
  {
   "cell_type": "markdown",
   "id": "1cf4ad43-c1d7-49be-9713-94edbf513516",
   "metadata": {},
   "source": [
    "## **12. Making Predictions**\n",
    "\n",
    "predict: Predicts the stock prices using the trained model."
   ]
  },
  {
   "cell_type": "code",
   "execution_count": 26,
   "id": "a19f82b7-7b5f-42f2-9ec6-c928e20fa115",
   "metadata": {},
   "outputs": [
    {
     "name": "stdout",
     "output_type": "stream",
     "text": [
      "\u001b[1m57/57\u001b[0m \u001b[32m━━━━━━━━━━━━━━━━━━━━\u001b[0m\u001b[37m\u001b[0m \u001b[1m2s\u001b[0m 35ms/step\n"
     ]
    }
   ],
   "source": [
    "y_predicted = model.predict(x_test)"
   ]
  },
  {
   "cell_type": "code",
   "execution_count": 27,
   "id": "74a765ca-a9c0-4b0c-8714-34728b15524e",
   "metadata": {},
   "outputs": [
    {
     "data": {
      "text/plain": [
       "(1816, 1)"
      ]
     },
     "execution_count": 27,
     "metadata": {},
     "output_type": "execute_result"
    }
   ],
   "source": [
    "y_predicted.shape"
   ]
  },
  {
   "cell_type": "code",
   "execution_count": 28,
   "id": "afae3f28-1be3-49be-a497-154c368adc21",
   "metadata": {},
   "outputs": [
    {
     "data": {
      "text/plain": [
       "array([[0.2669199 ],\n",
       "       [0.26695657],\n",
       "       [0.2664377 ],\n",
       "       ...,\n",
       "       [0.8737105 ],\n",
       "       [0.8745034 ],\n",
       "       [0.8779336 ]], dtype=float32)"
      ]
     },
     "execution_count": 28,
     "metadata": {},
     "output_type": "execute_result"
    }
   ],
   "source": [
    "y_predicted"
   ]
  },
  {
   "cell_type": "code",
   "execution_count": 29,
   "id": "a36b6a2e-2044-4965-8156-bd65a0e9852b",
   "metadata": {},
   "outputs": [
    {
     "data": {
      "text/plain": [
       "array([0.16117389, 0.15983991, 0.16870685, ..., 0.94397361, 0.95331136,\n",
       "       0.96602328])"
      ]
     },
     "execution_count": 29,
     "metadata": {},
     "output_type": "execute_result"
    }
   ],
   "source": [
    "y_test"
   ]
  },
  {
   "cell_type": "markdown",
   "id": "fbf61f8d-4c58-4811-af79-3dfa1ee62fa5",
   "metadata": {},
   "source": [
    "## **13. Inversing Scaling and Plotting Predictions**\n",
    "\n",
    "scale_factor: Factor used to inverse the scaling.\n",
    "\n",
    "plt.plot: Plots the original and predicted prices.\n",
    "\n",
    "plt.legend: Adds a legend to the plot.\n",
    "\n",
    "plt.title: Adds a title to the plot.\n",
    "\n",
    "plt.xlabel: Adds a label to the x-axis.\n",
    "\n",
    "plt.ylabel: Adds a label to the y-axis.\n",
    "\n",
    "plt.show(): Displays the plot."
   ]
  },
  {
   "cell_type": "code",
   "execution_count": 30,
   "id": "ebc70cd4-b1b1-40cb-b4f0-c8f78a1b3133",
   "metadata": {},
   "outputs": [
    {
     "data": {
      "text/plain": [
       "array([0.00156937])"
      ]
     },
     "execution_count": 30,
     "metadata": {},
     "output_type": "execute_result"
    }
   ],
   "source": [
    "scaler.scale_"
   ]
  },
  {
   "cell_type": "code",
   "execution_count": 31,
   "id": "4e01ae9f-944f-4174-a5c2-535aa8c694b0",
   "metadata": {},
   "outputs": [],
   "source": [
    "scale_factor = 1/0.00107175\n",
    "y_predicted = y_predicted * scale_factor\n",
    "y_test = y_test * scale_factor"
   ]
  },
  {
   "cell_type": "code",
   "execution_count": 32,
   "id": "2d11e364-db44-47d0-ba67-ffa2b0f2de86",
   "metadata": {},
   "outputs": [
    {
     "data": {
      "image/png": "[encoded data removed]",
      "text/plain": [
       "<Figure size 1200x600 with 1 Axes>"
      ]
     },
     "metadata": {},
     "output_type": "display_data"
    }
   ],
   "source": [
    "plt.figure(figsize=(12,6))\n",
    "plt.plot(y_test, 'b')\n",
    "plt.plot(y_predicted, 'r')\n",
    "plt.legend(['Original Price', 'Predicted Price'])\n",
    "plt.title(\"Predection Vs Original\")\n",
    "plt.xlabel('Time')\n",
    "plt.ylabel('Price')\n",
    "plt.show()"
   ]
  }
 ],
 "metadata": {
  "kernelspec": {
   "display_name": "Python 3 (ipykernel)",
   "language": "python",
   "name": "python3"
  },
  "language_info": {
   "codemirror_mode": {
    "name": "ipython",
    "version": 3
   },
   "file_extension": ".py",
   "mimetype": "text/x-python",
   "name": "python",
   "nbconvert_exporter": "python",
   "pygments_lexer": "ipython3",
   "version": "3.11.9"
  }
 },
 "nbformat": 4,
 "nbformat_minor": 5
}
